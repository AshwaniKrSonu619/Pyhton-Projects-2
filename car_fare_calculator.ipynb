{
  "nbformat": 4,
  "nbformat_minor": 0,
  "metadata": {
    "colab": {
      "name": "car fare calculator.ipynb",
      "provenance": [],
      "authorship_tag": "ABX9TyMrmZxQoUIB/P0aijJYdjf0",
      "include_colab_link": true
    },
    "kernelspec": {
      "name": "python3",
      "display_name": "Python 3"
    },
    "language_info": {
      "name": "python"
    }
  },
  "cells": [
    {
      "cell_type": "markdown",
      "metadata": {
        "id": "view-in-github",
        "colab_type": "text"
      },
      "source": [
        "<a href=\"https://colab.research.google.com/github/OpAshwani/Pyhton-Projects-2/blob/main/car_fare_calculator.ipynb\" target=\"_parent\"><img src=\"https://colab.research.google.com/assets/colab-badge.svg\" alt=\"Open In Colab\"/></a>"
      ]
    },
    {
      "cell_type": "code",
      "metadata": {
        "id": "HOD4-5CjuWoQ"
      },
      "source": [
        "#store the ride data in the variables\n",
        "location =\"Kolkata\"\n",
        "destination =\"Durgapur\"\n",
        "discount = .10\n",
        "numpassengers = 2\n",
        "price_per_passenger = 30\n",
        "\n",
        "#create the variables ride_price and find_price and set to 0.\n",
        "ride_price = 0\n",
        "final_price = 0\n",
        "\n",
        "#Next ,we need to adjust the ride  fare price depending on car destination city location\n",
        "if destination  == \"Kolkata\":\n",
        "     price_per_passenger = 100\n",
        "\n",
        "elif destination == \"Durgapur\":\n",
        "     price_per_passenger = 70\n",
        "elif destination == \"Asansol\":\n",
        "    price_per_passenger =80\n",
        "else:\n",
        "\n",
        "#price for any other city besides the abovecities\n",
        "    price_per_passengers  = price_per_passengers\n",
        "\n",
        "#Calculate Rideprice before discount calculation\n",
        "    print(\"Ride price:\")\n",
        "    print(price_per_passengers  * numpassengers)\n",
        "\n",
        "#Calculate the final Ride price after discount calculation\n",
        "    if location and destination == \"Kolkata\":\n",
        "        discount = discount\n",
        "        ride_price = price_per_passengers\n",
        "        final_price = ride_price* numpassengers -((ride_price * numpassengers)*discount)\n",
        "    elif destination != \"Kolkata\":\n",
        "        discount =.2\n",
        "        ride_price = price_per_passengers\n",
        "        final_price = ride_price* numpassengers -((ride_price * numpassengers)*discount)\n",
        "\n",
        "#printing the final price for a given  destination\n",
        "        print(\"Final price:\")\n",
        "        print(final_price)\n",
        " \n"
      ],
      "execution_count": 32,
      "outputs": []
    }
  ]
}